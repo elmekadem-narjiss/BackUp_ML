{
 "cells": [
  {
   "cell_type": "code",
   "execution_count": 1,
   "id": "parameters_cell",
   "metadata": {
    "execution": {
     "iopub.execute_input": "2025-05-09T23:44:14.241026Z",
     "iopub.status.busy": "2025-05-09T23:44:14.240778Z",
     "iopub.status.idle": "2025-05-09T23:44:14.247632Z",
     "shell.execute_reply": "2025-05-09T23:44:14.247101Z"
    },
    "papermill": {
     "duration": 0.01053,
     "end_time": "2025-05-09T23:44:14.248656",
     "exception": false,
     "start_time": "2025-05-09T23:44:14.238126",
     "status": "completed"
    },
    "tags": [
     "parameters"
    ]
   },
   "outputs": [],
   "source": [
    "# Paramètres\n",
    "MLFLOW_URL = 'https://54bd-41-248-47-247.ngrok-free.app'\n",
    "PUSHGATEWAY_URL = 'https://a90f-41-248-47-247.ngrok-free.app'\n",
    "output_dir = 'output'\n",
    "file_path = 'lstm_predictions_charger.csv'"
   ]
  },
  {
   "cell_type": "code",
   "execution_count": 2,
   "id": "1b5b8e02",
   "metadata": {
    "execution": {
     "iopub.execute_input": "2025-05-09T23:44:14.251851Z",
     "iopub.status.busy": "2025-05-09T23:44:14.251448Z",
     "iopub.status.idle": "2025-05-09T23:44:14.254632Z",
     "shell.execute_reply": "2025-05-09T23:44:14.254102Z"
    },
    "papermill": {
     "duration": 0.005655,
     "end_time": "2025-05-09T23:44:14.255624",
     "exception": false,
     "start_time": "2025-05-09T23:44:14.249969",
     "status": "completed"
    },
    "tags": [
     "injected-parameters"
    ]
   },
   "outputs": [],
   "source": [
    "# Parameters\n",
    "MLFLOW_URL = \"{env.MLFLOW_URL}\"\n",
    "PUSHGATEWAY_URL = \"{env.PUSHGATEWAY_URL}\"\n",
    "output_dir = \"output\"\n",
    "file_path = \"lstm_predictions_charger.csv\"\n"
   ]
  },
  {
   "cell_type": "code",
   "execution_count": 3,
   "id": "execution_cell",
   "metadata": {
    "execution": {
     "iopub.execute_input": "2025-05-09T23:44:14.258195Z",
     "iopub.status.busy": "2025-05-09T23:44:14.258026Z",
     "iopub.status.idle": "2025-05-09T23:44:28.512544Z",
     "shell.execute_reply": "2025-05-09T23:44:28.511794Z"
    },
    "papermill": {
     "duration": 14.25708,
     "end_time": "2025-05-09T23:44:28.513662",
     "exception": false,
     "start_time": "2025-05-09T23:44:14.256582",
     "status": "completed"
    },
    "tags": []
   },
   "outputs": [
    {
     "name": "stderr",
     "output_type": "stream",
     "text": [
      "2025-05-09 23:44:16.569347: I tensorflow/tsl/cuda/cudart_stub.cc:28] Could not find cuda drivers on your machine, GPU will not be used.\n",
      "2025-05-09 23:44:16.604871: I tensorflow/core/platform/cpu_feature_guard.cc:182] This TensorFlow binary is optimized to use available CPU instructions in performance-critical operations.\n",
      "To enable the following instructions: AVX2 FMA, in other operations, rebuild TensorFlow with the appropriate compiler flags.\n"
     ]
    },
    {
     "name": "stderr",
     "output_type": "stream",
     "text": [
      "2025-05-09 23:44:17.489709: W tensorflow/compiler/tf2tensorrt/utils/py_utils.cc:38] TF-TRT Warning: Could not find TensorRT\n"
     ]
    },
    {
     "name": "stdout",
     "output_type": "stream",
     "text": [
      "Using cpu device\n",
      "Wrapping the env with a `Monitor` wrapper\n",
      "Wrapping the env in a DummyVecEnv.\n"
     ]
    },
    {
     "name": "stderr",
     "output_type": "stream",
     "text": [
      "/home/runner/work/BackUp_ML/BackUp_ML/venv/lib/python3.9/site-packages/stable_baselines3/common/vec_env/patch_gym.py:49: UserWarning: You provided an OpenAI Gym environment. We strongly recommend transitioning to Gymnasium environments. Stable-Baselines3 is automatically wrapping your environments in a compatibility layer, which could potentially cause issues.\n",
      "  warnings.warn(\n"
     ]
    },
    {
     "name": "stdout",
     "output_type": "stream",
     "text": [
      "---------------------------------\n",
      "| rollout/           |          |\n",
      "|    ep_len_mean     | 89       |\n",
      "|    ep_rew_mean     | -647     |\n",
      "| time/              |          |\n",
      "|    fps             | 1748     |\n",
      "|    iterations      | 1        |\n",
      "|    time_elapsed    | 1        |\n",
      "|    total_timesteps | 2048     |\n",
      "---------------------------------\n"
     ]
    },
    {
     "name": "stdout",
     "output_type": "stream",
     "text": [
      "-----------------------------------------\n",
      "| rollout/                |             |\n",
      "|    ep_len_mean          | 89          |\n",
      "|    ep_rew_mean          | -647        |\n",
      "| time/                   |             |\n",
      "|    fps                  | 1381        |\n",
      "|    iterations           | 2           |\n",
      "|    time_elapsed         | 2           |\n",
      "|    total_timesteps      | 4096        |\n",
      "| train/                  |             |\n",
      "|    approx_kl            | 0.001977336 |\n",
      "|    clip_fraction        | 0.00449     |\n",
      "|    clip_range           | 0.2         |\n",
      "|    entropy_loss         | -1.42       |\n",
      "|    explained_variance   | 0.00108     |\n",
      "|    learning_rate        | 0.0003      |\n",
      "|    loss                 | 4.16e+03    |\n",
      "|    n_updates            | 10          |\n",
      "|    policy_gradient_loss | -0.000167   |\n",
      "|    std                  | 0.997       |\n",
      "|    value_loss           | 9.56e+03    |\n",
      "-----------------------------------------\n"
     ]
    },
    {
     "name": "stdout",
     "output_type": "stream",
     "text": [
      "------------------------------------------\n",
      "| rollout/                |              |\n",
      "|    ep_len_mean          | 89           |\n",
      "|    ep_rew_mean          | -647         |\n",
      "| time/                   |              |\n",
      "|    fps                  | 1292         |\n",
      "|    iterations           | 3            |\n",
      "|    time_elapsed         | 4            |\n",
      "|    total_timesteps      | 6144         |\n",
      "| train/                  |              |\n",
      "|    approx_kl            | 0.0037940869 |\n",
      "|    clip_fraction        | 0.0217       |\n",
      "|    clip_range           | 0.2          |\n",
      "|    entropy_loss         | -1.41        |\n",
      "|    explained_variance   | -2.4e-05     |\n",
      "|    learning_rate        | 0.0003       |\n",
      "|    loss                 | 4.25e+03     |\n",
      "|    n_updates            | 20           |\n",
      "|    policy_gradient_loss | -0.00141     |\n",
      "|    std                  | 0.985        |\n",
      "|    value_loss           | 9.73e+03     |\n",
      "------------------------------------------\n"
     ]
    },
    {
     "name": "stdout",
     "output_type": "stream",
     "text": [
      "-----------------------------------------\n",
      "| rollout/                |             |\n",
      "|    ep_len_mean          | 89          |\n",
      "|    ep_rew_mean          | -647        |\n",
      "| time/                   |             |\n",
      "|    fps                  | 1250        |\n",
      "|    iterations           | 4           |\n",
      "|    time_elapsed         | 6           |\n",
      "|    total_timesteps      | 8192        |\n",
      "| train/                  |             |\n",
      "|    approx_kl            | 0.002922054 |\n",
      "|    clip_fraction        | 0.013       |\n",
      "|    clip_range           | 0.2         |\n",
      "|    entropy_loss         | -1.39       |\n",
      "|    explained_variance   | -1.05e-05   |\n",
      "|    learning_rate        | 0.0003      |\n",
      "|    loss                 | 4.28e+03    |\n",
      "|    n_updates            | 30          |\n",
      "|    policy_gradient_loss | -0.00272    |\n",
      "|    std                  | 0.952       |\n",
      "|    value_loss           | 9.44e+03    |\n",
      "-----------------------------------------\n"
     ]
    },
    {
     "name": "stdout",
     "output_type": "stream",
     "text": [
      "------------------------------------------\n",
      "| rollout/                |              |\n",
      "|    ep_len_mean          | 89           |\n",
      "|    ep_rew_mean          | -647         |\n",
      "| time/                   |              |\n",
      "|    fps                  | 1227         |\n",
      "|    iterations           | 5            |\n",
      "|    time_elapsed         | 8            |\n",
      "|    total_timesteps      | 10240        |\n",
      "| train/                  |              |\n",
      "|    approx_kl            | 0.0029775011 |\n",
      "|    clip_fraction        | 0.0206       |\n",
      "|    clip_range           | 0.2          |\n",
      "|    entropy_loss         | -1.36        |\n",
      "|    explained_variance   | 4.87e-05     |\n",
      "|    learning_rate        | 0.0003       |\n",
      "|    loss                 | 4.31e+03     |\n",
      "|    n_updates            | 40           |\n",
      "|    policy_gradient_loss | -0.00194     |\n",
      "|    std                  | 0.939        |\n",
      "|    value_loss           | 9.15e+03     |\n",
      "------------------------------------------\n"
     ]
    },
    {
     "name": "stdout",
     "output_type": "stream",
     "text": [
      "Fichiers JSON générés :\n",
      "-rw-r--r-- 1 runner docker 69 May  9 23:44 output/evaluation_metrics.json\n",
      "-rw-r--r-- 1 runner docker 78 May  9 23:44 output/ppo_bess_model_metrics.json\n"
     ]
    },
    {
     "data": {
      "text/plain": [
       "0"
      ]
     },
     "execution_count": 3,
     "metadata": {},
     "output_type": "execute_result"
    }
   ],
   "source": [
    "import os\n",
    "import mlflow\n",
    "from train_ppo import train_ppo_model\n",
    "from evaluate_ppo import evaluate_ppo_model\n",
    "\n",
    "# Configurer MLflow\n",
    "os.environ['MLFLOW_TRACKING_URI'] = MLFLOW_URL\n",
    "\n",
    "# Vérifier que le fichier CSV existe\n",
    "if not os.path.exists(file_path):\n",
    "    raise FileNotFoundError(f'Fichier {file_path} non trouvé')\n",
    "\n",
    "# Entraîner le modèle PPO\n",
    "with mlflow.start_run(run_name='ppo_training'):\n",
    "    model, train_metrics = train_ppo_model(file_path, output_dir)\n",
    "    mlflow.log_metrics(train_metrics)\n",
    "\n",
    "# Évaluer le modèle\n",
    "with mlflow.start_run(run_name='ppo_evaluation'):\n",
    "    eval_metrics = evaluate_ppo_model(model, file_path, output_dir)\n",
    "    mlflow.log_metrics(eval_metrics)\n",
    "\n",
    "# Vérifier que les fichiers JSON ont été générés\n",
    "print('Fichiers JSON générés :')\n",
    "os.system(f'ls -l {output_dir}/*.json')"
   ]
  }
 ],
 "metadata": {
  "kernelspec": {
   "display_name": "Python 3 (venv)",
   "language": "python",
   "name": "python3"
  },
  "language_info": {
   "codemirror_mode": {
    "name": "ipython",
    "version": 3
   },
   "file_extension": ".py",
   "mimetype": "text/x-python",
   "name": "python",
   "nbconvert_exporter": "python",
   "pygments_lexer": "ipython3",
   "version": "3.9.22"
  },
  "papermill": {
   "default_parameters": {},
   "duration": 16.316376,
   "end_time": "2025-05-09T23:44:29.633543",
   "environment_variables": {},
   "exception": null,
   "input_path": "ppo_pipeline.ipynb",
   "output_path": "output/ppo_pipeline_executed.ipynb",
   "parameters": {
    "MLFLOW_URL": "{env.MLFLOW_URL}",
    "PUSHGATEWAY_URL": "{env.PUSHGATEWAY_URL}",
    "file_path": "lstm_predictions_charger.csv",
    "output_dir": "output"
   },
   "start_time": "2025-05-09T23:44:13.317167",
   "version": "2.4.0"
  }
 },
 "nbformat": 4,
 "nbformat_minor": 5
}