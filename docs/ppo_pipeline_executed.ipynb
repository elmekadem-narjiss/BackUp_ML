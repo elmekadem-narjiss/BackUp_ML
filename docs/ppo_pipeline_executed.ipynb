{
 "cells": [
  {
   "cell_type": "code",
   "execution_count": 1,
   "id": "parameters_cell",
   "metadata": {
    "execution": {
     "iopub.execute_input": "2025-05-10T00:21:22.458134Z",
     "iopub.status.busy": "2025-05-10T00:21:22.457885Z",
     "iopub.status.idle": "2025-05-10T00:21:22.464726Z",
     "shell.execute_reply": "2025-05-10T00:21:22.464234Z"
    },
    "papermill": {
     "duration": 0.010631,
     "end_time": "2025-05-10T00:21:22.465763",
     "exception": false,
     "start_time": "2025-05-10T00:21:22.455132",
     "status": "completed"
    },
    "tags": [
     "parameters"
    ]
   },
   "outputs": [],
   "source": [
    "# Paramètres\n",
    "MLFLOW_URL = 'https://54bd-41-248-47-247.ngrok-free.app'\n",
    "PUSHGATEWAY_URL = 'https://a90f-41-248-47-247.ngrok-free.app'\n",
    "output_dir = 'output'\n",
    "file_path = 'lstm_predictions_charger.csv'"
   ]
  },
  {
   "cell_type": "code",
   "execution_count": 2,
   "id": "44fe22eb",
   "metadata": {
    "execution": {
     "iopub.execute_input": "2025-05-10T00:21:22.468754Z",
     "iopub.status.busy": "2025-05-10T00:21:22.468566Z",
     "iopub.status.idle": "2025-05-10T00:21:22.471678Z",
     "shell.execute_reply": "2025-05-10T00:21:22.471127Z"
    },
    "papermill": {
     "duration": 0.005566,
     "end_time": "2025-05-10T00:21:22.472673",
     "exception": false,
     "start_time": "2025-05-10T00:21:22.467107",
     "status": "completed"
    },
    "tags": [
     "injected-parameters"
    ]
   },
   "outputs": [],
   "source": [
    "# Parameters\n",
    "MLFLOW_URL = \"{env.MLFLOW_URL}\"\n",
    "PUSHGATEWAY_URL = \"{env.PUSHGATEWAY_URL}\"\n",
    "output_dir = \"output\"\n",
    "file_path = \"lstm_predictions_charger.csv\"\n"
   ]
  },
  {
   "cell_type": "code",
   "execution_count": 3,
   "id": "execution_cell",
   "metadata": {
    "execution": {
     "iopub.execute_input": "2025-05-10T00:21:22.475563Z",
     "iopub.status.busy": "2025-05-10T00:21:22.475220Z",
     "iopub.status.idle": "2025-05-10T00:21:40.360415Z",
     "shell.execute_reply": "2025-05-10T00:21:40.359651Z"
    },
    "papermill": {
     "duration": 17.887895,
     "end_time": "2025-05-10T00:21:40.361534",
     "exception": false,
     "start_time": "2025-05-10T00:21:22.473639",
     "status": "completed"
    },
    "tags": []
   },
   "outputs": [
    {
     "name": "stderr",
     "output_type": "stream",
     "text": [
      "2025-05-10 00:21:25.383012: I tensorflow/tsl/cuda/cudart_stub.cc:28] Could not find cuda drivers on your machine, GPU will not be used.\n",
      "2025-05-10 00:21:25.418956: I tensorflow/core/platform/cpu_feature_guard.cc:182] This TensorFlow binary is optimized to use available CPU instructions in performance-critical operations.\n",
      "To enable the following instructions: AVX2 FMA, in other operations, rebuild TensorFlow with the appropriate compiler flags.\n"
     ]
    },
    {
     "name": "stderr",
     "output_type": "stream",
     "text": [
      "2025-05-10 00:21:26.328406: W tensorflow/compiler/tf2tensorrt/utils/py_utils.cc:38] TF-TRT Warning: Could not find TensorRT\n"
     ]
    },
    {
     "name": "stdout",
     "output_type": "stream",
     "text": [
      "Using cpu device\n",
      "Wrapping the env with a `Monitor` wrapper\n",
      "Wrapping the env in a DummyVecEnv.\n"
     ]
    },
    {
     "name": "stderr",
     "output_type": "stream",
     "text": [
      "/home/runner/work/BackUp_ML/BackUp_ML/venv/lib/python3.9/site-packages/stable_baselines3/common/vec_env/patch_gym.py:49: UserWarning: You provided an OpenAI Gym environment. We strongly recommend transitioning to Gymnasium environments. Stable-Baselines3 is automatically wrapping your environments in a compatibility layer, which could potentially cause issues.\n",
      "  warnings.warn(\n"
     ]
    },
    {
     "name": "stdout",
     "output_type": "stream",
     "text": [
      "---------------------------------\n",
      "| rollout/           |          |\n",
      "|    ep_len_mean     | 89       |\n",
      "|    ep_rew_mean     | -647     |\n",
      "| time/              |          |\n",
      "|    fps             | 1733     |\n",
      "|    iterations      | 1        |\n",
      "|    time_elapsed    | 1        |\n",
      "|    total_timesteps | 2048     |\n",
      "---------------------------------\n"
     ]
    },
    {
     "name": "stdout",
     "output_type": "stream",
     "text": [
      "------------------------------------------\n",
      "| rollout/                |              |\n",
      "|    ep_len_mean          | 89           |\n",
      "|    ep_rew_mean          | -647         |\n",
      "| time/                   |              |\n",
      "|    fps                  | 1356         |\n",
      "|    iterations           | 2            |\n",
      "|    time_elapsed         | 3            |\n",
      "|    total_timesteps      | 4096         |\n",
      "| train/                  |              |\n",
      "|    approx_kl            | 0.0010225489 |\n",
      "|    clip_fraction        | 0.00542      |\n",
      "|    clip_range           | 0.2          |\n",
      "|    entropy_loss         | -1.43        |\n",
      "|    explained_variance   | 7.08e-05     |\n",
      "|    learning_rate        | 0.0003       |\n",
      "|    loss                 | 4.31e+03     |\n",
      "|    n_updates            | 10           |\n",
      "|    policy_gradient_loss | -0.00106     |\n",
      "|    std                  | 1.01         |\n",
      "|    value_loss           | 9.49e+03     |\n",
      "------------------------------------------\n"
     ]
    },
    {
     "name": "stdout",
     "output_type": "stream",
     "text": [
      "------------------------------------------\n",
      "| rollout/                |              |\n",
      "|    ep_len_mean          | 89           |\n",
      "|    ep_rew_mean          | -647         |\n",
      "| time/                   |              |\n",
      "|    fps                  | 1266         |\n",
      "|    iterations           | 3            |\n",
      "|    time_elapsed         | 4            |\n",
      "|    total_timesteps      | 6144         |\n",
      "| train/                  |              |\n",
      "|    approx_kl            | 0.0029326244 |\n",
      "|    clip_fraction        | 0.0103       |\n",
      "|    clip_range           | 0.2          |\n",
      "|    entropy_loss         | -1.43        |\n",
      "|    explained_variance   | -2.36e-05    |\n",
      "|    learning_rate        | 0.0003       |\n",
      "|    loss                 | 4.7e+03      |\n",
      "|    n_updates            | 20           |\n",
      "|    policy_gradient_loss | -0.000931    |\n",
      "|    std                  | 1.01         |\n",
      "|    value_loss           | 9.7e+03      |\n",
      "------------------------------------------\n"
     ]
    },
    {
     "name": "stdout",
     "output_type": "stream",
     "text": [
      "-----------------------------------------\n",
      "| rollout/                |             |\n",
      "|    ep_len_mean          | 89          |\n",
      "|    ep_rew_mean          | -647        |\n",
      "| time/                   |             |\n",
      "|    fps                  | 1228        |\n",
      "|    iterations           | 4           |\n",
      "|    time_elapsed         | 6           |\n",
      "|    total_timesteps      | 8192        |\n",
      "| train/                  |             |\n",
      "|    approx_kl            | 0.005098777 |\n",
      "|    clip_fraction        | 0.0346      |\n",
      "|    clip_range           | 0.2         |\n",
      "|    entropy_loss         | -1.42       |\n",
      "|    explained_variance   | -3.14e-05   |\n",
      "|    learning_rate        | 0.0003      |\n",
      "|    loss                 | 4.49e+03    |\n",
      "|    n_updates            | 30          |\n",
      "|    policy_gradient_loss | -0.00327    |\n",
      "|    std                  | 1           |\n",
      "|    value_loss           | 9.41e+03    |\n",
      "-----------------------------------------\n"
     ]
    },
    {
     "name": "stdout",
     "output_type": "stream",
     "text": [
      "------------------------------------------\n",
      "| rollout/                |              |\n",
      "|    ep_len_mean          | 89           |\n",
      "|    ep_rew_mean          | -647         |\n",
      "| time/                   |              |\n",
      "|    fps                  | 1206         |\n",
      "|    iterations           | 5            |\n",
      "|    time_elapsed         | 8            |\n",
      "|    total_timesteps      | 10240        |\n",
      "| train/                  |              |\n",
      "|    approx_kl            | 0.0065106214 |\n",
      "|    clip_fraction        | 0.0542       |\n",
      "|    clip_range           | 0.2          |\n",
      "|    entropy_loss         | -1.41        |\n",
      "|    explained_variance   | -1.12e-05    |\n",
      "|    learning_rate        | 0.0003       |\n",
      "|    loss                 | 4.41e+03     |\n",
      "|    n_updates            | 40           |\n",
      "|    policy_gradient_loss | -0.00374     |\n",
      "|    std                  | 0.992        |\n",
      "|    value_loss           | 9.13e+03     |\n",
      "------------------------------------------\n"
     ]
    },
    {
     "name": "stdout",
     "output_type": "stream",
     "text": [
      "Fichiers JSON générés :\n",
      "-rw-r--r-- 1 runner docker 69 May 10 00:21 output/evaluation_metrics.json\n",
      "-rw-r--r-- 1 runner docker 78 May 10 00:21 output/ppo_bess_model_metrics.json\n"
     ]
    },
    {
     "data": {
      "text/plain": [
       "0"
      ]
     },
     "execution_count": 3,
     "metadata": {},
     "output_type": "execute_result"
    }
   ],
   "source": [
    "import os\n",
    "import mlflow\n",
    "from train_ppo import train_ppo_model\n",
    "from evaluate_ppo import evaluate_ppo_model\n",
    "\n",
    "# Configurer MLflow\n",
    "os.environ['MLFLOW_TRACKING_URI'] = MLFLOW_URL\n",
    "\n",
    "# Vérifier que le fichier CSV existe\n",
    "if not os.path.exists(file_path):\n",
    "    raise FileNotFoundError(f'Fichier {file_path} non trouvé')\n",
    "\n",
    "# Entraîner le modèle PPO\n",
    "with mlflow.start_run(run_name='ppo_training'):\n",
    "    model, train_metrics = train_ppo_model(file_path, output_dir)\n",
    "    mlflow.log_metrics(train_metrics)\n",
    "\n",
    "# Évaluer le modèle\n",
    "with mlflow.start_run(run_name='ppo_evaluation'):\n",
    "    eval_metrics = evaluate_ppo_model(model, file_path, output_dir)\n",
    "    mlflow.log_metrics(eval_metrics)\n",
    "\n",
    "# Vérifier que les fichiers JSON ont été générés\n",
    "print('Fichiers JSON générés :')\n",
    "os.system(f'ls -l {output_dir}/*.json')"
   ]
  }
 ],
 "metadata": {
  "kernelspec": {
   "display_name": "Python 3 (venv)",
   "language": "python",
   "name": "python3"
  },
  "language_info": {
   "codemirror_mode": {
    "name": "ipython",
    "version": 3
   },
   "file_extension": ".py",
   "mimetype": "text/x-python",
   "name": "python",
   "nbconvert_exporter": "python",
   "pygments_lexer": "ipython3",
   "version": "3.9.22"
  },
  "papermill": {
   "default_parameters": {},
   "duration": 20.0464,
   "end_time": "2025-05-10T00:21:41.582523",
   "environment_variables": {},
   "exception": null,
   "input_path": "ppo_pipeline.ipynb",
   "output_path": "output/ppo_pipeline_executed.ipynb",
   "parameters": {
    "MLFLOW_URL": "{env.MLFLOW_URL}",
    "PUSHGATEWAY_URL": "{env.PUSHGATEWAY_URL}",
    "file_path": "lstm_predictions_charger.csv",
    "output_dir": "output"
   },
   "start_time": "2025-05-10T00:21:21.536123",
   "version": "2.4.0"
  }
 },
 "nbformat": 4,
 "nbformat_minor": 5
}