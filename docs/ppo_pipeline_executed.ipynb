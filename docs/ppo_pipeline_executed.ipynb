{
 "cells": [
  {
   "cell_type": "code",
   "execution_count": 1,
   "id": "parameters_cell",
   "metadata": {
    "execution": {
     "iopub.execute_input": "2025-05-09T04:55:54.600707Z",
     "iopub.status.busy": "2025-05-09T04:55:54.600280Z",
     "iopub.status.idle": "2025-05-09T04:55:54.606901Z",
     "shell.execute_reply": "2025-05-09T04:55:54.606263Z"
    },
    "papermill": {
     "duration": 0.010019,
     "end_time": "2025-05-09T04:55:54.607995",
     "exception": false,
     "start_time": "2025-05-09T04:55:54.597976",
     "status": "completed"
    },
    "tags": [
     "parameters"
    ]
   },
   "outputs": [],
   "source": [
    "# Paramètres\n",
    "MLFLOW_URL = 'https://54bd-41-248-47-247.ngrok-free.app'\n",
    "PUSHGATEWAY_URL = 'https://a90f-41-248-47-247.ngrok-free.app'\n",
    "output_dir = 'output'\n",
    "file_path = 'lstm_predictions_charger.csv'"
   ]
  },
  {
   "cell_type": "code",
   "execution_count": 2,
   "id": "55ebb9b1",
   "metadata": {
    "execution": {
     "iopub.execute_input": "2025-05-09T04:55:54.611151Z",
     "iopub.status.busy": "2025-05-09T04:55:54.610755Z",
     "iopub.status.idle": "2025-05-09T04:55:54.613964Z",
     "shell.execute_reply": "2025-05-09T04:55:54.613303Z"
    },
    "papermill": {
     "duration": 0.005704,
     "end_time": "2025-05-09T04:55:54.614980",
     "exception": false,
     "start_time": "2025-05-09T04:55:54.609276",
     "status": "completed"
    },
    "tags": [
     "injected-parameters"
    ]
   },
   "outputs": [],
   "source": [
    "# Parameters\n",
    "MLFLOW_URL = \"{env.MLFLOW_URL}\"\n",
    "PUSHGATEWAY_URL = \"{env.PUSHGATEWAY_URL}\"\n",
    "output_dir = \"output\"\n",
    "file_path = \"lstm_predictions_charger.csv\"\n"
   ]
  },
  {
   "cell_type": "code",
   "execution_count": 3,
   "id": "execution_cell",
   "metadata": {
    "execution": {
     "iopub.execute_input": "2025-05-09T04:55:54.617859Z",
     "iopub.status.busy": "2025-05-09T04:55:54.617495Z",
     "iopub.status.idle": "2025-05-09T04:56:09.140395Z",
     "shell.execute_reply": "2025-05-09T04:56:09.139618Z"
    },
    "papermill": {
     "duration": 14.525574,
     "end_time": "2025-05-09T04:56:09.141533",
     "exception": false,
     "start_time": "2025-05-09T04:55:54.615959",
     "status": "completed"
    },
    "tags": []
   },
   "outputs": [
    {
     "name": "stderr",
     "output_type": "stream",
     "text": [
      "2025-05-09 04:55:57.000186: I tensorflow/tsl/cuda/cudart_stub.cc:28] Could not find cuda drivers on your machine, GPU will not be used.\n",
      "2025-05-09 04:55:57.035118: I tensorflow/core/platform/cpu_feature_guard.cc:182] This TensorFlow binary is optimized to use available CPU instructions in performance-critical operations.\n",
      "To enable the following instructions: AVX2 FMA, in other operations, rebuild TensorFlow with the appropriate compiler flags.\n"
     ]
    },
    {
     "name": "stderr",
     "output_type": "stream",
     "text": [
      "2025-05-09 04:55:57.897618: W tensorflow/compiler/tf2tensorrt/utils/py_utils.cc:38] TF-TRT Warning: Could not find TensorRT\n"
     ]
    },
    {
     "name": "stdout",
     "output_type": "stream",
     "text": [
      "Using cpu device\n",
      "Wrapping the env with a `Monitor` wrapper\n",
      "Wrapping the env in a DummyVecEnv.\n"
     ]
    },
    {
     "name": "stderr",
     "output_type": "stream",
     "text": [
      "/home/runner/work/BackUp_ML/BackUp_ML/venv/lib/python3.9/site-packages/stable_baselines3/common/vec_env/patch_gym.py:49: UserWarning: You provided an OpenAI Gym environment. We strongly recommend transitioning to Gymnasium environments. Stable-Baselines3 is automatically wrapping your environments in a compatibility layer, which could potentially cause issues.\n",
      "  warnings.warn(\n"
     ]
    },
    {
     "name": "stdout",
     "output_type": "stream",
     "text": [
      "---------------------------------\n",
      "| rollout/           |          |\n",
      "|    ep_len_mean     | 89       |\n",
      "|    ep_rew_mean     | -647     |\n",
      "| time/              |          |\n",
      "|    fps             | 1731     |\n",
      "|    iterations      | 1        |\n",
      "|    time_elapsed    | 1        |\n",
      "|    total_timesteps | 2048     |\n",
      "---------------------------------\n"
     ]
    },
    {
     "name": "stdout",
     "output_type": "stream",
     "text": [
      "-----------------------------------------\n",
      "| rollout/                |             |\n",
      "|    ep_len_mean          | 89          |\n",
      "|    ep_rew_mean          | -647        |\n",
      "| time/                   |             |\n",
      "|    fps                  | 1360        |\n",
      "|    iterations           | 2           |\n",
      "|    time_elapsed         | 3           |\n",
      "|    total_timesteps      | 4096        |\n",
      "| train/                  |             |\n",
      "|    approx_kl            | 0.003377732 |\n",
      "|    clip_fraction        | 0.0175      |\n",
      "|    clip_range           | 0.2         |\n",
      "|    entropy_loss         | -1.42       |\n",
      "|    explained_variance   | -0.00107    |\n",
      "|    learning_rate        | 0.0003      |\n",
      "|    loss                 | 4.48e+03    |\n",
      "|    n_updates            | 10          |\n",
      "|    policy_gradient_loss | -0.00106    |\n",
      "|    std                  | 1           |\n",
      "|    value_loss           | 9.31e+03    |\n",
      "-----------------------------------------\n"
     ]
    },
    {
     "name": "stdout",
     "output_type": "stream",
     "text": [
      "------------------------------------------\n",
      "| rollout/                |              |\n",
      "|    ep_len_mean          | 89           |\n",
      "|    ep_rew_mean          | -647         |\n",
      "| time/                   |              |\n",
      "|    fps                  | 1271         |\n",
      "|    iterations           | 3            |\n",
      "|    time_elapsed         | 4            |\n",
      "|    total_timesteps      | 6144         |\n",
      "| train/                  |              |\n",
      "|    approx_kl            | 0.0023535644 |\n",
      "|    clip_fraction        | 0.0062       |\n",
      "|    clip_range           | 0.2          |\n",
      "|    entropy_loss         | -1.42        |\n",
      "|    explained_variance   | 0.000718     |\n",
      "|    learning_rate        | 0.0003       |\n",
      "|    loss                 | 4.55e+03     |\n",
      "|    n_updates            | 20           |\n",
      "|    policy_gradient_loss | -0.00013     |\n",
      "|    std                  | 0.993        |\n",
      "|    value_loss           | 9.67e+03     |\n",
      "------------------------------------------\n"
     ]
    },
    {
     "name": "stdout",
     "output_type": "stream",
     "text": [
      "------------------------------------------\n",
      "| rollout/                |              |\n",
      "|    ep_len_mean          | 89           |\n",
      "|    ep_rew_mean          | -647         |\n",
      "| time/                   |              |\n",
      "|    fps                  | 1230         |\n",
      "|    iterations           | 4            |\n",
      "|    time_elapsed         | 6            |\n",
      "|    total_timesteps      | 8192         |\n",
      "| train/                  |              |\n",
      "|    approx_kl            | 0.0034106849 |\n",
      "|    clip_fraction        | 0.0131       |\n",
      "|    clip_range           | 0.2          |\n",
      "|    entropy_loss         | -1.41        |\n",
      "|    explained_variance   | 0.000211     |\n",
      "|    learning_rate        | 0.0003       |\n",
      "|    loss                 | 4.36e+03     |\n",
      "|    n_updates            | 30           |\n",
      "|    policy_gradient_loss | -0.000792    |\n",
      "|    std                  | 0.989        |\n",
      "|    value_loss           | 9.38e+03     |\n",
      "------------------------------------------\n"
     ]
    },
    {
     "name": "stdout",
     "output_type": "stream",
     "text": [
      "------------------------------------------\n",
      "| rollout/                |              |\n",
      "|    ep_len_mean          | 89           |\n",
      "|    ep_rew_mean          | -647         |\n",
      "| time/                   |              |\n",
      "|    fps                  | 1207         |\n",
      "|    iterations           | 5            |\n",
      "|    time_elapsed         | 8            |\n",
      "|    total_timesteps      | 10240        |\n",
      "| train/                  |              |\n",
      "|    approx_kl            | 0.0035796375 |\n",
      "|    clip_fraction        | 0.0118       |\n",
      "|    clip_range           | 0.2          |\n",
      "|    entropy_loss         | -1.4         |\n",
      "|    explained_variance   | -3.46e-05    |\n",
      "|    learning_rate        | 0.0003       |\n",
      "|    loss                 | 4.51e+03     |\n",
      "|    n_updates            | 40           |\n",
      "|    policy_gradient_loss | -0.00108     |\n",
      "|    std                  | 0.983        |\n",
      "|    value_loss           | 9.1e+03      |\n",
      "------------------------------------------\n"
     ]
    },
    {
     "name": "stdout",
     "output_type": "stream",
     "text": [
      "Fichiers JSON générés :\n",
      "-rw-r--r-- 1 runner docker 65 May  9 04:56 output/evaluation_metrics.json\n",
      "-rw-r--r-- 1 runner docker 78 May  9 04:56 output/ppo_bess_model_metrics.json\n"
     ]
    },
    {
     "data": {
      "text/plain": [
       "0"
      ]
     },
     "execution_count": 3,
     "metadata": {},
     "output_type": "execute_result"
    }
   ],
   "source": [
    "import os\n",
    "import mlflow\n",
    "from train_ppo import train_ppo_model\n",
    "from evaluate_ppo import evaluate_ppo_model\n",
    "\n",
    "# Configurer MLflow\n",
    "os.environ['MLFLOW_TRACKING_URI'] = MLFLOW_URL\n",
    "\n",
    "# Vérifier que le fichier CSV existe\n",
    "if not os.path.exists(file_path):\n",
    "    raise FileNotFoundError(f'Fichier {file_path} non trouvé')\n",
    "\n",
    "# Entraîner le modèle PPO\n",
    "with mlflow.start_run(run_name='ppo_training'):\n",
    "    model, train_metrics = train_ppo_model(file_path, output_dir)\n",
    "    mlflow.log_metrics(train_metrics)\n",
    "\n",
    "# Évaluer le modèle\n",
    "with mlflow.start_run(run_name='ppo_evaluation'):\n",
    "    eval_metrics = evaluate_ppo_model(model, file_path, output_dir)\n",
    "    mlflow.log_metrics(eval_metrics)\n",
    "\n",
    "# Vérifier que les fichiers JSON ont été générés\n",
    "print('Fichiers JSON générés :')\n",
    "os.system(f'ls -l {output_dir}/*.json')"
   ]
  }
 ],
 "metadata": {
  "kernelspec": {
   "display_name": "Python 3 (venv)",
   "language": "python",
   "name": "python3"
  },
  "language_info": {
   "codemirror_mode": {
    "name": "ipython",
    "version": 3
   },
   "file_extension": ".py",
   "mimetype": "text/x-python",
   "name": "python",
   "nbconvert_exporter": "python",
   "pygments_lexer": "ipython3",
   "version": "3.9.22"
  },
  "papermill": {
   "default_parameters": {},
   "duration": 16.575899,
   "end_time": "2025-05-09T04:56:10.262030",
   "environment_variables": {},
   "exception": null,
   "input_path": "ppo_pipeline.ipynb",
   "output_path": "output/ppo_pipeline_executed.ipynb",
   "parameters": {
    "MLFLOW_URL": "{env.MLFLOW_URL}",
    "PUSHGATEWAY_URL": "{env.PUSHGATEWAY_URL}",
    "file_path": "lstm_predictions_charger.csv",
    "output_dir": "output"
   },
   "start_time": "2025-05-09T04:55:53.686131",
   "version": "2.4.0"
  }
 },
 "nbformat": 4,
 "nbformat_minor": 5
}