{
 "cells": [
  {
   "cell_type": "code",
   "execution_count": null,
   "metadata": {
    "tags": ["parameters"]
   },
   "outputs": [],
   "source": [
    "# Paramètres\n",
    "MLFLOW_URL = 'https://54bd-41-248-47-247.ngrok-free.app'\n",
    "PUSHGATEWAY_URL = 'https://a90f-41-248-47-247.ngrok-free.app'\n",
    "output_dir = 'output'\n",
    "file_path = 'lstm_predictions_charger.csv'"
   ]
  },
  {
   "cell_type": "code",
   "execution_count": null,
   "metadata": {},
   "outputs": [],
   "source": [
    "import os\n",
    "import mlflow\n",
    "from train_ppo import train_ppo_model\n",
    "from evaluate_ppo import evaluate_ppo_model\n",
    "\n",
    "# Configurer MLflow\n",
    "os.environ['MLFLOW_TRACKING_URI'] = MLFLOW_URL\n",
    "\n",
    "# Vérifier que le fichier CSV existe\n",
    "if not os.path.exists(file_path):\n",
    "    raise FileNotFoundError(f'Fichier {file_path} non trouvé')\n",
    "\n",
    "# Entraîner le modèle PPO\n",
    "with mlflow.start_run(run_name='ppo_training'):\n",
    "    model, train_metrics = train_ppo_model(file_path, output_dir)\n",
    "    mlflow.log_metrics(train_metrics)\n",
    "\n",
    "# Évaluer le modèle\n",
    "with mlflow.start_run(run_name='ppo_evaluation'):\n",
    "    eval_metrics = evaluate_ppo_model(model, file_path, output_dir)\n",
    "    mlflow.log_metrics(eval_metrics)\n",
    "\n",
    "# Vérifier que les fichiers JSON ont été générés\n",
    "print('Fichiers JSON générés :')\n",
    "os.system(f'ls -l {output_dir}/*.json')"
   ]
  }
 ],
 "metadata": {
  "kernelspec": {
   "display_name": "Python 3 (venv)",
   "language": "python",
   "name": "python3"
  },
  "language_info": {
   "codemirror_mode": {
    "name": "ipython",
    "version": 3
   },
   "file_extension": ".py",
   "mimetype": "text/x-python",
   "name": "python",
   "nbconvert_exporter": "python",
   "pygments_lexer": "ipython3",
   "version": "3.9"
  }
 },
 "nbformat": 4,
 "nbformat_minor": 5
}
