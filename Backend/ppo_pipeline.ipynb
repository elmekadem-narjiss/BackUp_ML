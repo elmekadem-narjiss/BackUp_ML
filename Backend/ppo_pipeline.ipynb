{
 "cells": [
  {
   "cell_type": "code",
   "execution_count": null,
   "metadata": {},
   "outputs": [],
   "source": [
    "# Paramètres injectés par papermill\n",
    "MLFLOW_URL = \"https://e06b-41-248-47-247.ngrok-free.app/\"\n",
    "PUSHGATEWAY_URL = \"https://e546-160-179-231-239.ngrok-free.app/\"\n",
    "output_dir = \"output\"\n",
    "file_path = \"lstm_predictions_charger.csv\""
   ]
  },
  {
   "cell_type": "code",
   "execution_count": null,
   "metadata": {},
   "outputs": [],
   "source": [
    "import os\n",
    "import json\n",
    "\n",
    "# Vérifier que le dossier output existe\n",
    "if not os.path.exists(output_dir):\n",
    "    os.makedirs(output_dir)\n",
    "\n",
    "# Définir le chemin du modèle\n",
    "model_path = os.path.join(output_dir, \"ppo_bess_model\")\n",
    "\n",
    "# Exécuter train_ppo.py\n",
    "train_command = f\"python train_ppo.py --file_path {file_path} --mlflow_url {MLFLOW_URL} --output_dir {output_dir} --model_path {model_path}\"\n",
    "os.system(train_command)\n",
    "\n",
    "# Exécuter evaluate_ppo.py\n",
    "eval_command = f\"python evaluate_ppo.py --file_path {file_path} --model_path {model_path} --mlflow_url {MLFLOW_URL} --output_dir {output_dir}\"\n",
    "os.system(eval_command)\n",
    "\n",
    "# Charger et pousser les métriques vers Prometheus\n",
    "PUSHGATEWAY_URL = os.getenv(\"PUSHGATEWAY_URL\", PUSHGATEWAY_URL)\n",
    "\n",
    "# Métriques d'entraînement\n",
    "train_metrics_path = os.path.join(output_dir, \"ppo_bess_model_metrics.json\")\n",
    "if os.path.exists(train_metrics_path):\n",
    "    with open(train_metrics_path, \"r\") as f:\n",
    "        train_metrics = json.load(f)\n",
    "    for key, value in train_metrics.items():\n",
    "        os.system(f'echo \"{key}{{run=\\\\\\\"ppo_training\\\\\\\"}} {value}\" | curl --data-binary @- {PUSHGATEWAY_URL}/metrics/job/ppo_metrics')\n",
    "\n",
    "# Métriques d'évaluation\n",
    "eval_metrics_path = os.path.join(output_dir, \"evaluation_metrics.json\")\n",
    "if os.path.exists(eval_metrics_path):\n",
    "    with open(eval_metrics_path, \"r\") as f:\n",
    "        eval_metrics = json.load(f)\n",
    "    for key, value in eval_metrics.items():\n",
    "        os.system(f'echo \"{key}{{run=\\\\\\\"ppo_evaluation\\\\\\\"}} {value}\" | curl --data-binary @- {PUSHGATEWAY_URL}/metrics/job/ppo_metrics')\n",
    "\n",
    "# Pousser une métrique de succès\n",
    "os.system(f'echo \"success 1\" | curl --data-binary @- {PUSHGATEWAY_URL}/metrics/job/ppo_metrics')"
   ]
  }
 ],
 "metadata": {
  "language_info": {
   "name": "python"
  },
  "orig_nbformat": 4
 },
 "nbformat": 4,
 "nbformat_minor": 2
}
